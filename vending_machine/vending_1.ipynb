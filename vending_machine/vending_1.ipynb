{
 "cells": [
  {
   "cell_type": "code",
   "execution_count": 152,
   "id": "5b895d61-7f71-4e78-9bd0-b5ad1f35d181",
   "metadata": {},
   "outputs": [],
   "source": [
    "class VendingMachine:\n",
    "    count = 0\n",
    "    change = 0\n",
    "\n",
    "    def __init__(self, price):\n",
    "        self.price = price\n",
    "        VendingMachine.count += price\n",
    "\n",
    "    def insert_money(money):\n",
    "        types = [10, 50, 100, 500, 1000]\n",
    "        for y in money:\n",
    "            if y in types:\n",
    "                VendingMachine(y)\n",
    "            else:\n",
    "                VendingMachine.change += y\n",
    "\n",
    "    def pay():\n",
    "        change = VendingMachine.change + VendingMachine.count\n",
    "        VendingMachine.count = 0\n",
    "        VendingMachine.change = 0\n",
    "        return change"
   ]
  },
  {
   "cell_type": "code",
   "execution_count": 153,
   "id": "d895cd01-64a9-448e-8c0f-db8535c6ca27",
   "metadata": {},
   "outputs": [
    {
     "data": {
      "text/plain": [
       "0"
      ]
     },
     "execution_count": 153,
     "metadata": {},
     "output_type": "execute_result"
    }
   ],
   "source": [
    "VendingMachine.count"
   ]
  },
  {
   "cell_type": "code",
   "execution_count": 154,
   "id": "02d51cad-1078-44bc-9224-9bbaa5336f1a",
   "metadata": {},
   "outputs": [],
   "source": [
    "VendingMachine.insert_money([1, 5, 10, 1000, 2000])"
   ]
  },
  {
   "cell_type": "code",
   "execution_count": 155,
   "id": "417b6fd3-3acb-4a3a-ae2c-eefe18272bb3",
   "metadata": {},
   "outputs": [
    {
     "data": {
      "text/plain": [
       "1010"
      ]
     },
     "execution_count": 155,
     "metadata": {},
     "output_type": "execute_result"
    }
   ],
   "source": [
    "VendingMachine.count"
   ]
  },
  {
   "cell_type": "code",
   "execution_count": 156,
   "id": "2d41343a-f039-44c9-a3eb-ed378107902c",
   "metadata": {},
   "outputs": [
    {
     "data": {
      "text/plain": [
       "2006"
      ]
     },
     "execution_count": 156,
     "metadata": {},
     "output_type": "execute_result"
    }
   ],
   "source": [
    "VendingMachine.change"
   ]
  },
  {
   "cell_type": "code",
   "execution_count": 157,
   "id": "63db83f3-9094-4186-80ec-c9fcb796ae0f",
   "metadata": {},
   "outputs": [
    {
     "data": {
      "text/plain": [
       "3016"
      ]
     },
     "execution_count": 157,
     "metadata": {},
     "output_type": "execute_result"
    }
   ],
   "source": [
    "VendingMachine.pay()"
   ]
  },
  {
   "cell_type": "code",
   "execution_count": 158,
   "id": "f53b6365-fc92-4e47-8b25-cc5fffe46a73",
   "metadata": {},
   "outputs": [
    {
     "data": {
      "text/plain": [
       "0"
      ]
     },
     "execution_count": 158,
     "metadata": {},
     "output_type": "execute_result"
    }
   ],
   "source": [
    "VendingMachine.count"
   ]
  },
  {
   "cell_type": "code",
   "execution_count": 159,
   "id": "a65c3341-749e-4f78-b84f-3d383927f502",
   "metadata": {},
   "outputs": [],
   "source": [
    "class Drinks:\n",
    "    def __init__(self, name, price, stock):\n",
    "        self.name = name\n",
    "        self.price = price\n",
    "        self.stock = stock\n",
    "        print(f\"\"\"品名：{coke.name} \\n値段：{coke.price}円 \\n在庫数は{coke.stock}本\"\"\")"
   ]
  },
  {
   "cell_type": "code",
   "execution_count": 160,
   "id": "50bb7b62-bf07-4362-a4ff-c29bd004cbaf",
   "metadata": {},
   "outputs": [
    {
     "name": "stdout",
     "output_type": "stream",
     "text": [
      "品名：コーラ \n",
      "値段：120円 \n",
      "在庫数は5本\n"
     ]
    }
   ],
   "source": [
    "coke = Drinks(\"コーラ\", 120, 5)"
   ]
  },
  {
   "cell_type": "code",
   "execution_count": 161,
   "id": "4b3df583-1a09-4238-9006-3b64788643ea",
   "metadata": {},
   "outputs": [
    {
     "name": "stdout",
     "output_type": "stream",
     "text": [
      "コーラ\n",
      "120\n",
      "5\n"
     ]
    }
   ],
   "source": [
    "print(coke.name)\n",
    "print(coke.price)\n",
    "print(coke.stock)"
   ]
  },
  {
   "cell_type": "code",
   "execution_count": null,
   "id": "a895832c-bef1-4ed3-8864-c8e3d8bcac6a",
   "metadata": {},
   "outputs": [],
   "source": []
  }
 ],
 "metadata": {
  "kernelspec": {
   "display_name": "Python 3",
   "language": "python",
   "name": "python3"
  },
  "language_info": {
   "codemirror_mode": {
    "name": "ipython",
    "version": 3
   },
   "file_extension": ".py",
   "mimetype": "text/x-python",
   "name": "python",
   "nbconvert_exporter": "python",
   "pygments_lexer": "ipython3",
   "version": "3.8.8"
  },
  "toc-autonumbering": true
 },
 "nbformat": 4,
 "nbformat_minor": 5
}
